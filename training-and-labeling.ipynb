{
 "cells": [
  {
   "cell_type": "code",
   "execution_count": null,
   "metadata": {
    "_cell_guid": "b1076dfc-b9ad-4769-8c92-a6c4dae69d19",
    "_uuid": "8f2839f25d086af736a60e9eeb907d3b93b6e0e5",
    "execution": {
     "iopub.execute_input": "2021-08-07T07:22:43.686045Z",
     "iopub.status.busy": "2021-08-07T07:22:43.68558Z",
     "iopub.status.idle": "2021-08-07T07:22:48.646256Z",
     "shell.execute_reply": "2021-08-07T07:22:48.645369Z",
     "shell.execute_reply.started": "2021-08-07T07:22:43.685928Z"
    }
   },
   "outputs": [],
   "source": [
    "import numpy as np\n",
    "import matplotlib.pyplot as plt\n",
    "import cv2\n",
    "import os\n",
    "import tensorflow as tf\n",
    "from tensorflow import keras\n",
    "from keras.applications.vgg16 import VGG16\n",
    "from keras.layers import Input,Lambda,Dense,Flatten\n",
    "from keras.models import Model"
   ]
  },
  {
   "cell_type": "code",
   "execution_count": null,
   "metadata": {
    "execution": {
     "iopub.execute_input": "2021-08-07T07:22:51.744769Z",
     "iopub.status.busy": "2021-08-07T07:22:51.744426Z",
     "iopub.status.idle": "2021-08-07T07:25:44.950932Z",
     "shell.execute_reply": "2021-08-07T07:25:44.950067Z",
     "shell.execute_reply.started": "2021-08-07T07:22:51.744738Z"
    }
   },
   "outputs": [],
   "source": [
    "train_data_dir = os.path.join('../input/final-data-rps/Final Data/Training')\n",
    "test_data_dir = os.path.join('../input/final-data-rps/Final Data/Testing')\n",
    "categories = ['none','rock', 'paper', 'scissors']\n",
    "training_data=[]\n",
    "testing_data = []\n",
    "img_size= 150\n",
    "\n",
    "#function to label training and testing data\n",
    "def data_labeling(data_path, data):\n",
    "    for category in categories:\n",
    "        #labels: 0 for none, 1 for rock, 2 for paper, and 3 for scissors\n",
    "        label = categories.index(category)\n",
    "\n",
    "        category_path = os.path.join(data_path, category)\n",
    "        for img in os.listdir(category_path):\n",
    "            img_path = os.path.join(category_path, img)\n",
    "            img_array = cv2.imread(img_path) #image is being converted into an array\n",
    "            img_array = cv2.cvtColor(img_array, cv2.COLOR_BGR2RGB )\n",
    "            img_array = cv2.resize(img_array, (img_size, img_size))\n",
    "            plt.imshow(img_array)\n",
    "            plt.title(label)\n",
    "            #final labeling of each image to its respective category\n",
    "            data.append([img_array, label])\n",
    "            \n",
    "data_labeling(train_data_dir, training_data)\n",
    "data_labeling(test_data_dir, testing_data)"
   ]
  },
  {
   "cell_type": "code",
   "execution_count": null,
   "metadata": {
    "execution": {
     "iopub.execute_input": "2021-08-07T07:25:59.315479Z",
     "iopub.status.busy": "2021-08-07T07:25:59.315084Z",
     "iopub.status.idle": "2021-08-07T07:26:00.797273Z",
     "shell.execute_reply": "2021-08-07T07:26:00.796407Z",
     "shell.execute_reply.started": "2021-08-07T07:25:59.315446Z"
    }
   },
   "outputs": [],
   "source": [
    "X_train=[]\n",
    "Y_train=[]\n",
    "X_test=[]\n",
    "Y_test=[]\n",
    "for features, labels in training_data:\n",
    "    X_train.append(features)\n",
    "    Y_train.append(labels)  \n",
    "X_train=np.array(X_train)\n",
    "Y_train=np.array(Y_train)\n",
    "for features, labels in testing_data:\n",
    "    X_test.append(features)\n",
    "    Y_test.append(labels)  \n",
    "X_test=np.array(X_test)\n",
    "Y_test=np.array(Y_test)\n",
    "X_train= X_train/255\n",
    "X_test= X_test/255\n",
    "\n",
    "\n",
    "\n",
    "print(X_train.shape, Y_train.shape, X_test.shape, Y_test.shape)"
   ]
  },
  {
   "cell_type": "code",
   "execution_count": null,
   "metadata": {
    "execution": {
     "iopub.execute_input": "2021-08-07T07:30:42.889766Z",
     "iopub.status.busy": "2021-08-07T07:30:42.889363Z",
     "iopub.status.idle": "2021-08-07T07:30:44.713633Z",
     "shell.execute_reply": "2021-08-07T07:30:44.712748Z",
     "shell.execute_reply.started": "2021-08-07T07:30:42.889735Z"
    }
   },
   "outputs": [],
   "source": [
    "from tensorflow.keras import layers\n",
    "from keras.models import Sequential\n",
    "\n",
    "data_augmentation = tf.keras.Sequential([\n",
    "  layers.experimental.preprocessing.RandomFlip(\"horizontal_and_vertical\"),\n",
    "  layers.experimental.preprocessing.RandomRotation(0.2),\n",
    "])"
   ]
  },
  {
   "cell_type": "code",
   "execution_count": null,
   "metadata": {
    "execution": {
     "iopub.execute_input": "2021-08-07T07:45:39.306727Z",
     "iopub.status.busy": "2021-08-07T07:45:39.306328Z",
     "iopub.status.idle": "2021-08-07T07:47:15.728245Z",
     "shell.execute_reply": "2021-08-07T07:47:15.727269Z",
     "shell.execute_reply.started": "2021-08-07T07:45:39.306696Z"
    }
   },
   "outputs": [],
   "source": [
    "image_size2=(150,150,3)\n",
    "vgg= VGG16(input_shape=image_size2, weights='imagenet',include_top=False)\n",
    "vgg.output\n",
    "for layers in vgg.layers:\n",
    "    layers.trainable =False\n",
    "\n",
    "x=Flatten()(vgg.output)\n",
    "prediction=Dense(len(X_train), activation='softmax')(x)\n",
    "model = tf.keras.Sequential([data_augmentation])\n",
    "model= Model(inputs=vgg.input, outputs=prediction)\n",
    "model.summary()\n",
    "model.compile(optimizer ='adam',\n",
    "              loss = keras.losses.SparseCategoricalCrossentropy(),\n",
    "              metrics=['accuracy'])\n",
    "\n",
    "history= model.fit(X_train,Y_train, epochs =6,validation_split= 0.1, batch_size=8)\n",
    "model.summary()\n",
    "model.evaluate(X_test,Y_test)\n",
    "            "
   ]
  },
  {
   "cell_type": "code",
   "execution_count": null,
   "metadata": {
    "execution": {
     "iopub.execute_input": "2021-08-07T07:47:18.734905Z",
     "iopub.status.busy": "2021-08-07T07:47:18.734555Z",
     "iopub.status.idle": "2021-08-07T07:47:21.045182Z",
     "shell.execute_reply": "2021-08-07T07:47:21.044239Z",
     "shell.execute_reply.started": "2021-08-07T07:47:18.734867Z"
    }
   },
   "outputs": [],
   "source": [
    "from sklearn.metrics import confusion_matrix, classification_report\n",
    "y_pred= vgg.predict(X_test)\n",
    "y_pred_classes=[np.argmax(element) for element in y_pred]\n",
    "print(\"Classification Report: \\n\",classification_report(Y_test,y_pred_classes))\n"
   ]
  },
  {
   "cell_type": "code",
   "execution_count": null,
   "metadata": {
    "execution": {
     "iopub.execute_input": "2021-08-07T07:47:56.24464Z",
     "iopub.status.busy": "2021-08-07T07:47:56.244279Z",
     "iopub.status.idle": "2021-08-07T07:47:56.403747Z",
     "shell.execute_reply": "2021-08-07T07:47:56.402914Z",
     "shell.execute_reply.started": "2021-08-07T07:47:56.244609Z"
    }
   },
   "outputs": [],
   "source": [
    "import matplotlib.pyplot as plt\n",
    "# Plot training & validation accuracy values\n",
    "plt.plot(history.history['accuracy'])\n",
    "plt.plot(history.history['val_accuracy'])\n",
    "plt.title('Model accuracy')\n",
    "plt.ylabel('Accuracy')\n",
    "plt.xlabel('Epoch')\n",
    "plt.legend(['Train', 'Test'], loc='upper left')\n",
    "plt.show()\n"
   ]
  },
  {
   "cell_type": "code",
   "execution_count": null,
   "metadata": {
    "execution": {
     "iopub.execute_input": "2021-08-07T07:51:02.845209Z",
     "iopub.status.busy": "2021-08-07T07:51:02.844806Z",
     "iopub.status.idle": "2021-08-07T07:51:02.852283Z",
     "shell.execute_reply": "2021-08-07T07:51:02.850834Z",
     "shell.execute_reply.started": "2021-08-07T07:51:02.845174Z"
    }
   },
   "outputs": [],
   "source": [
    "from random import choice\n",
    "input_path = os.path.join('../input/my-input/manual input')\n",
    "input_data=[]\n",
    "icon_path = os.path.join('../input/rps-icons/images')\n",
    "icon=[]\n",
    "def process(data_path, data):\n",
    "    for img in os.listdir(data_path):\n",
    "            img_path = os.path.join(data_path, img)\n",
    "            img_array = cv2.imread(img_path) #image is being converted into an array\n",
    "            img_array = cv2.cvtColor(img_array, cv2.COLOR_BGR2RGB )\n",
    "            img_array = cv2.resize(img_array, (150,150))\n",
    "            data.append(img_array)"
   ]
  },
  {
   "cell_type": "code",
   "execution_count": null,
   "metadata": {
    "execution": {
     "iopub.execute_input": "2021-08-07T07:51:05.359242Z",
     "iopub.status.busy": "2021-08-07T07:51:05.358872Z",
     "iopub.status.idle": "2021-08-07T07:51:06.37004Z",
     "shell.execute_reply": "2021-08-07T07:51:06.369044Z",
     "shell.execute_reply.started": "2021-08-07T07:51:05.359209Z"
    }
   },
   "outputs": [],
   "source": [
    "process(input_path,input_data)\n",
    "process(icon_path, icon)\n",
    "input_data=np.array(input_data)\n",
    "icon =np.array(icon)"
   ]
  },
  {
   "cell_type": "code",
   "execution_count": null,
   "metadata": {
    "execution": {
     "iopub.execute_input": "2021-08-07T07:51:09.419385Z",
     "iopub.status.busy": "2021-08-07T07:51:09.418842Z",
     "iopub.status.idle": "2021-08-07T07:51:10.268214Z",
     "shell.execute_reply": "2021-08-07T07:51:10.267171Z",
     "shell.execute_reply.started": "2021-08-07T07:51:09.41934Z"
    }
   },
   "outputs": [],
   "source": [
    "def prediction(data):\n",
    "    y_pred= model.predict(data)\n",
    "    for i in range(len(data)):\n",
    "        output= np.argmax(y_pred[i])\n",
    "        fig= plt.figure(figsize=(7,7))\n",
    "        fig.add_subplot(1,2,1)\n",
    "        plt.imshow(data[i])\n",
    "        plt.axis('off')\n",
    "        plt.title(\"Player's move\")\n",
    "        comp_move= choice(['rock', 'paper', 'scissors'])\n",
    "        fig.add_subplot(1,2,2)\n",
    "        plt.imshow(icon[categories.index(comp_move)-1])\n",
    "        plt.axis('off')\n",
    "        plt.title(\"Computer's move\")\n",
    "        \n",
    "prediction(input_data)"
   ]
  },
  {
   "cell_type": "code",
   "execution_count": null,
   "metadata": {
    "execution": {
     "iopub.execute_input": "2021-08-07T07:51:59.519255Z",
     "iopub.status.busy": "2021-08-07T07:51:59.518836Z",
     "iopub.status.idle": "2021-08-07T07:52:00.928788Z",
     "shell.execute_reply": "2021-08-07T07:52:00.927645Z",
     "shell.execute_reply.started": "2021-08-07T07:51:59.519222Z"
    }
   },
   "outputs": [],
   "source": [
    "model.save(\"ROCK_PAPER_SCISSORS.h5\")"
   ]
  },
  {
   "cell_type": "code",
   "execution_count": null,
   "metadata": {},
   "outputs": [],
   "source": []
  }
 ],
 "metadata": {
  "kernelspec": {
   "display_name": "Python 3",
   "language": "python",
   "name": "python3"
  },
  "language_info": {
   "codemirror_mode": {
    "name": "ipython",
    "version": 3
   },
   "file_extension": ".py",
   "mimetype": "text/x-python",
   "name": "python",
   "nbconvert_exporter": "python",
   "pygments_lexer": "ipython3",
   "version": "3.8.8"
  }
 },
 "nbformat": 4,
 "nbformat_minor": 4
}
