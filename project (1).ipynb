{
 "cells": [
  {
   "cell_type": "code",
   "execution_count": 1,
   "id": "a9768dea",
   "metadata": {},
   "outputs": [],
   "source": [
    "import numpy as np\n",
    "import matplotlib.pyplot as plt\n",
    "import cv2\n",
    "import os\n",
    "import tensorflow as tf\n",
    "from tensorflow import keras\n",
    "from keras.applications.vgg16 import VGG16\n",
    "from glob import glob\n",
    "from keras.layers import Input,Lambda,Dense,Flatten\n",
    "from keras.models import Model"
   ]
  },
  {
   "cell_type": "code",
   "execution_count": 2,
   "id": "d108bf2d",
   "metadata": {},
   "outputs": [
    {
     "data": {
      "image/png": "[encoded data removed]",
      "text/plain": [
       "<Figure size 432x288 with 1 Axes>"
      ]
     },
     "metadata": {
      "needs_background": "light"
     },
     "output_type": "display_data"
    }
   ],
   "source": [
    "train_data_dir = os.path.join('C:\\\\Users\\\\Dell\\\\archive\\\\Rock-Paper-Scissors\\\\Rock-Paper-Scissors\\\\train')\n",
    "test_data_dir = os.path.join('C:\\\\Users\\\\Dell\\\\archive\\\\Rock-Paper-Scissors\\\\Rock-Paper-Scissors\\\\test')\n",
    "categories = ['rock', 'paper', 'scissors']\n",
    "training_data=[]\n",
    "testing_data = []\n",
    "validation_data = []\n",
    "img_size= 224\n",
    "\n",
    "#val_dir= os.path.join('C:\\Users\\Dedeepya\\Downloads\\archive\\Rock-Paper-Scissors\\validation')\n",
    "\n",
    "def data_labeling(data_path, data):\n",
    "    for category in categories:\n",
    "        label = categories.index(category)\n",
    "\n",
    "        category_path = os.path.join(data_path, category)\n",
    "        for img in os.listdir(category_path):\n",
    "            img_path = os.path.join(category_path, img)\n",
    "            img_array = cv2.imread(img_path)\n",
    "            img_array = cv2.cvtColor(img_array, cv2.COLOR_BGR2RGB )\n",
    "            img_array = cv2.resize(img_array, (img_size, img_size))\n",
    "            #plt.imshow(img_array)\n",
    "            plt.title(label)\n",
    "            data.append([img_array, label])\n",
    "data_labeling(train_data_dir, training_data)\n",
    "data_labeling(test_data_dir, testing_data)"
   ]
  },
  {
   "cell_type": "code",
   "execution_count": 3,
   "id": "400d8192",
   "metadata": {},
   "outputs": [
    {
     "name": "stdout",
     "output_type": "stream",
     "text": [
      "(2520, 224, 224, 3) (2520,) (372, 224, 224, 3) (372,)\n"
     ]
    }
   ],
   "source": [
    "X_train=[]\n",
    "Y_train=[]\n",
    "X_test=[]\n",
    "Y_test=[]\n",
    "for features, labels in training_data:\n",
    "    X_train.append(features)\n",
    "    Y_train.append(labels)  \n",
    "X_train=np.array(X_train)\n",
    "Y_train=np.array(Y_train)\n",
    "for features, labels in testing_data:\n",
    "    X_test.append(features)\n",
    "    Y_test.append(labels)  \n",
    "X_test=np.array(X_test)\n",
    "Y_test=np.array(Y_test)\n",
    "X_train= X_train/255\n",
    "X_test= X_test/255\n",
    "\n",
    "\n",
    "print(X_train.shape, Y_train.shape, X_test.shape, Y_test.shape)"
   ]
  },
  {
   "cell_type": "code",
   "execution_count": 4,
   "id": "c51094b7",
   "metadata": {},
   "outputs": [],
   "source": [
    "from tensorflow.keras import layers\n",
    "from keras.models import Sequential\n",
    "\n",
    "data_augmentation = tf.keras.Sequential([\n",
    "  layers.experimental.preprocessing.RandomFlip(\"horizontal_and_vertical\"),\n",
    "  layers.experimental.preprocessing.RandomRotation(0.2),\n",
    "])"
   ]
  },
  {
   "cell_type": "code",
   "execution_count": 5,
   "id": "60a09739",
   "metadata": {
    "scrolled": false
   },
   "outputs": [
    {
     "name": "stdout",
     "output_type": "stream",
     "text": [
      "Downloading data from https://storage.googleapis.com/tensorflow/keras-applications/vgg16/vgg16_weights_tf_dim_ordering_tf_kernels_notop.h5\n",
      "58892288/58889256 [==============================] - 56s 1us/step\n",
      "Model: \"functional_1\"\n",
      "_________________________________________________________________\n",
      "Layer (type)                 Output Shape              Param #   \n",
      "=================================================================\n",
      "input_1 (InputLayer)         [(None, 224, 224, 3)]     0         \n",
      "_________________________________________________________________\n",
      "block1_conv1 (Conv2D)        (None, 224, 224, 64)      1792      \n",
      "_________________________________________________________________\n",
      "block1_conv2 (Conv2D)        (None, 224, 224, 64)      36928     \n",
      "_________________________________________________________________\n",
      "block1_pool (MaxPooling2D)   (None, 112, 112, 64)      0         \n",
      "_________________________________________________________________\n",
      "block2_conv1 (Conv2D)        (None, 112, 112, 128)     73856     \n",
      "_________________________________________________________________\n",
      "block2_conv2 (Conv2D)        (None, 112, 112, 128)     147584    \n",
      "_________________________________________________________________\n",
      "block2_pool (MaxPooling2D)   (None, 56, 56, 128)       0         \n",
      "_________________________________________________________________\n",
      "block3_conv1 (Conv2D)        (None, 56, 56, 256)       295168    \n",
      "_________________________________________________________________\n",
      "block3_conv2 (Conv2D)        (None, 56, 56, 256)       590080    \n",
      "_________________________________________________________________\n",
      "block3_conv3 (Conv2D)        (None, 56, 56, 256)       590080    \n",
      "_________________________________________________________________\n",
      "block3_pool (MaxPooling2D)   (None, 28, 28, 256)       0         \n",
      "_________________________________________________________________\n",
      "block4_conv1 (Conv2D)        (None, 28, 28, 512)       1180160   \n",
      "_________________________________________________________________\n",
      "block4_conv2 (Conv2D)        (None, 28, 28, 512)       2359808   \n",
      "_________________________________________________________________\n",
      "block4_conv3 (Conv2D)        (None, 28, 28, 512)       2359808   \n",
      "_________________________________________________________________\n",
      "block4_pool (MaxPooling2D)   (None, 14, 14, 512)       0         \n",
      "_________________________________________________________________\n",
      "block5_conv1 (Conv2D)        (None, 14, 14, 512)       2359808   \n",
      "_________________________________________________________________\n",
      "block5_conv2 (Conv2D)        (None, 14, 14, 512)       2359808   \n",
      "_________________________________________________________________\n",
      "block5_conv3 (Conv2D)        (None, 14, 14, 512)       2359808   \n",
      "_________________________________________________________________\n",
      "block5_pool (MaxPooling2D)   (None, 7, 7, 512)         0         \n",
      "_________________________________________________________________\n",
      "flatten (Flatten)            (None, 25088)             0         \n",
      "_________________________________________________________________\n",
      "dense (Dense)                (None, 2520)              63224280  \n",
      "=================================================================\n",
      "Total params: 77,938,968\n",
      "Trainable params: 63,224,280\n",
      "Non-trainable params: 14,714,688\n",
      "_________________________________________________________________\n",
      "Epoch 1/6\n",
      "71/71 [==============================] - 716s 10s/step - loss: 0.2058 - accuracy: 0.9660 - val_loss: 0.3441 - val_accuracy: 0.8175\n",
      "Epoch 2/6\n",
      "71/71 [==============================] - 609s 9s/step - loss: 0.0027 - accuracy: 1.0000 - val_loss: 0.3710 - val_accuracy: 0.8056\n",
      "Epoch 3/6\n",
      "71/71 [==============================] - 629s 9s/step - loss: 0.0016 - accuracy: 1.0000 - val_loss: 0.2780 - val_accuracy: 0.8730\n",
      "Epoch 4/6\n",
      "71/71 [==============================] - 652s 9s/step - loss: 0.0011 - accuracy: 1.0000 - val_loss: 0.2709 - val_accuracy: 0.8810\n",
      "Epoch 5/6\n",
      "71/71 [==============================] - 660s 9s/step - loss: 8.2272e-04 - accuracy: 1.0000 - val_loss: 0.2988 - val_accuracy: 0.8452\n",
      "Epoch 6/6\n",
      "71/71 [==============================] - 688s 10s/step - loss: 6.3978e-04 - accuracy: 1.0000 - val_loss: 0.2899 - val_accuracy: 0.8571\n",
      "Model: \"functional_1\"\n",
      "_________________________________________________________________\n",
      "Layer (type)                 Output Shape              Param #   \n",
      "=================================================================\n",
      "input_1 (InputLayer)         [(None, 224, 224, 3)]     0         \n",
      "_________________________________________________________________\n",
      "block1_conv1 (Conv2D)        (None, 224, 224, 64)      1792      \n",
      "_________________________________________________________________\n",
      "block1_conv2 (Conv2D)        (None, 224, 224, 64)      36928     \n",
      "_________________________________________________________________\n",
      "block1_pool (MaxPooling2D)   (None, 112, 112, 64)      0         \n",
      "_________________________________________________________________\n",
      "block2_conv1 (Conv2D)        (None, 112, 112, 128)     73856     \n",
      "_________________________________________________________________\n",
      "block2_conv2 (Conv2D)        (None, 112, 112, 128)     147584    \n",
      "_________________________________________________________________\n",
      "block2_pool (MaxPooling2D)   (None, 56, 56, 128)       0         \n",
      "_________________________________________________________________\n",
      "block3_conv1 (Conv2D)        (None, 56, 56, 256)       295168    \n",
      "_________________________________________________________________\n",
      "block3_conv2 (Conv2D)        (None, 56, 56, 256)       590080    \n",
      "_________________________________________________________________\n",
      "block3_conv3 (Conv2D)        (None, 56, 56, 256)       590080    \n",
      "_________________________________________________________________\n",
      "block3_pool (MaxPooling2D)   (None, 28, 28, 256)       0         \n",
      "_________________________________________________________________\n",
      "block4_conv1 (Conv2D)        (None, 28, 28, 512)       1180160   \n",
      "_________________________________________________________________\n",
      "block4_conv2 (Conv2D)        (None, 28, 28, 512)       2359808   \n",
      "_________________________________________________________________\n",
      "block4_conv3 (Conv2D)        (None, 28, 28, 512)       2359808   \n",
      "_________________________________________________________________\n",
      "block4_pool (MaxPooling2D)   (None, 14, 14, 512)       0         \n",
      "_________________________________________________________________\n",
      "block5_conv1 (Conv2D)        (None, 14, 14, 512)       2359808   \n",
      "_________________________________________________________________\n",
      "block5_conv2 (Conv2D)        (None, 14, 14, 512)       2359808   \n",
      "_________________________________________________________________\n",
      "block5_conv3 (Conv2D)        (None, 14, 14, 512)       2359808   \n",
      "_________________________________________________________________\n",
      "block5_pool (MaxPooling2D)   (None, 7, 7, 512)         0         \n",
      "_________________________________________________________________\n",
      "flatten (Flatten)            (None, 25088)             0         \n",
      "_________________________________________________________________\n",
      "dense (Dense)                (None, 2520)              63224280  \n",
      "=================================================================\n",
      "Total params: 77,938,968\n",
      "Trainable params: 63,224,280\n",
      "Non-trainable params: 14,714,688\n",
      "_________________________________________________________________\n",
      "12/12 [==============================] - 83s 7s/step - loss: 0.2626 - accuracy: 0.8952\n"
     ]
    },
    {
     "data": {
      "text/plain": [
       "[0.26263734698295593, 0.8951612710952759]"
      ]
     },
     "execution_count": 5,
     "metadata": {},
     "output_type": "execute_result"
    }
   ],
   "source": [
    "image_size=(224,224,3)\n",
    "vgg= VGG16(input_shape=image_size, weights='imagenet',include_top=False)\n",
    "vgg.output\n",
    "for layers in vgg.layers:\n",
    "    layers.trainable =False\n",
    "#folder=glob('../input/rock-paper-scissors-dataset/Rock-Paper-Scissors/train/') \n",
    "#print(len(folder))\n",
    "\n",
    "x=Flatten()(vgg.output)\n",
    "prediction=Dense(len(X_train), activation='softmax')(x)\n",
    "model= Model(inputs=vgg.input, outputs=prediction)\n",
    "model.summary()\n",
    "model.compile(optimizer ='adam',\n",
    "              loss = keras.losses.SparseCategoricalCrossentropy(),\n",
    "              metrics=['accuracy'])\n",
    "\n",
    "model.fit(X_train,Y_train, epochs =6,validation_split= 0.1, batch_size =32)\n",
    "model.summary()\n",
    "model.evaluate(X_test,Y_test)\n",
    "            "
   ]
  },
  {
   "cell_type": "code",
   "execution_count": 6,
   "id": "5435f390",
   "metadata": {},
   "outputs": [],
   "source": [
    "model.save(\"rock_paper_scissors-model.h5\")"
   ]
  },
  {
   "cell_type": "code",
   "execution_count": null,
   "id": "b00fb40b",
   "metadata": {},
   "outputs": [],
   "source": []
  }
 ],
 "metadata": {
  "kernelspec": {
   "display_name": "Python 3",
   "language": "python",
   "name": "python3"
  },
  "language_info": {
   "codemirror_mode": {
    "name": "ipython",
    "version": 3
   },
   "file_extension": ".py",
   "mimetype": "text/x-python",
   "name": "python",
   "nbconvert_exporter": "python",
   "pygments_lexer": "ipython3",
   "version": "3.8.8"
  }
 },
 "nbformat": 4,
 "nbformat_minor": 5
}
